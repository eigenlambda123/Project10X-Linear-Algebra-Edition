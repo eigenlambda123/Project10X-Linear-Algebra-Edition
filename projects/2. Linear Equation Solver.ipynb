{
 "cells": [
  {
   "cell_type": "markdown",
   "id": "ed81dc60-2303-4315-bb16-0f6a913f5ef8",
   "metadata": {},
   "source": [
    "### **Gussian Elimination**"
   ]
  },
  {
   "cell_type": "code",
   "execution_count": 6,
   "id": "6c78168e-d695-49e9-959b-58609175cfc7",
   "metadata": {},
   "outputs": [
    {
     "name": "stdout",
     "output_type": "stream",
     "text": [
      "Steps:\n",
      "R2 → R2 - (2.00) × R1\n",
      "R3 → R3 - (6.00) × R1\n",
      "R3 → R3 - (-15.00) × R2\n",
      "Row Echelon Form [A|b]:\n",
      "[[   1.    2.    3.    6.]\n",
      " [   0.    1.   -4.   -8.]\n",
      " [   0.    0.  -77. -154.]]\n"
     ]
    }
   ],
   "source": [
    "import numpy as np\n",
    "\n",
    "class GaussianEliminator:\n",
    "    def __init__(self, A, b):\n",
    "        self.A = A.astype(float).copy() # Matrix A\n",
    "        self.b = b.astype(float).copy() # vector b\n",
    "        self.n = self.A.shape[0]\n",
    "        self.steps = []\n",
    "\n",
    "    def eliminate(self):\n",
    "        \"\"\"\n",
    "        Perform Gaussian elimination and convert [A|b] to Row Echelon Form (REF).\n",
    "        \"\"\"\n",
    "        for i in range(self.n):\n",
    "            \n",
    "            # Handle zero pivot\n",
    "            if np.isclose(self.A[i, i], 0):\n",
    "                swapped = False\n",
    "                for j in range(i + 1, self.n):\n",
    "                    if not np.isclose(self.A[j, i], 0):\n",
    "                        self._swap_rows(i, j)\n",
    "                        self.steps.append(f\"Swapped row {i} with row {j} (pivot was zero).\")\n",
    "                        swapped = True\n",
    "                        break\n",
    "                if not swapped:\n",
    "                    self.steps.append(f\"Column {i} pivot is zero and unswappable. Skipping.\")\n",
    "                    continue\n",
    "\n",
    "            pivot = self.A[i, i] \n",
    "\n",
    "            # Elimination\n",
    "            for j in range(i + 1, self.n):\n",
    "                multiplier = self.A[j, i] / pivot # multiplier\n",
    "                self.A[j] -= multiplier * self.A[i] # eliminate an entry in A\n",
    "                self.b[j] -= multiplier * self.b[i] # eliminate b\n",
    "                self.steps.append(f\"R{j+1} → R{j+1} - ({multiplier:.2f}) × R{i+1}\") # steps\n",
    "\n",
    "    def _swap_rows(self, i, j):\n",
    "        \"\"\"Used if there's a zero in pivot position\"\"\"\n",
    "        self.A[[i, j]] = self.A[[j, i]]\n",
    "        self.b[[i, j]] = self.b[[j, i]]\n",
    "\n",
    "    def get_augmented_matrix(self):\n",
    "        \"\"\"Transform A and b to augmented matrix\"\"\"\n",
    "        return np.column_stack((self.A, self.b))\n",
    "\n",
    "    def print_steps(self):\n",
    "        print(\"Steps:\")\n",
    "        for step in self.steps:\n",
    "            print(step)\n",
    "\n",
    "    def print_result(self):\n",
    "        print(\"Row Echelon Form [A|b]:\")\n",
    "        print(self.get_augmented_matrix())\n",
    "\n",
    "\n",
    "\n",
    "A = np.array([[1, 2, 3],\n",
    "              [2, 5, 2],\n",
    "              [6, -3, 1]])\n",
    "\n",
    "b = np.array([[6],\n",
    "              [4],\n",
    "              [2]])\n",
    "eliminator = GaussianEliminator(A, b)\n",
    "eliminator.eliminate()\n",
    "eliminator.print_steps()\n",
    "eliminator.print_result()"
   ]
  },
  {
   "cell_type": "markdown",
   "id": "bed6e2ca-976c-4f7b-a846-0389693a1508",
   "metadata": {},
   "source": [
    "### **Solution Type Detection**"
   ]
  },
  {
   "cell_type": "code",
   "execution_count": 7,
   "id": "5cc4bf60-1293-4cf6-ba4b-e56fe1baea80",
   "metadata": {},
   "outputs": [
    {
     "name": "stdout",
     "output_type": "stream",
     "text": [
      "Unique solution\n"
     ]
    }
   ],
   "source": [
    "import numpy as np\n",
    "\n",
    "def detect_solution_type(A, b):\n",
    "    \"\"\"\n",
    "    Detects the type of solution for the linear system Ax = b\n",
    "    using the rank of A and the augmented matrix [A|b].\n",
    "    \"\"\"\n",
    "    A = A.astype(float) # Matrix A\n",
    "    b = b.reshape(-1, 1).astype(float) # vector b\n",
    "\n",
    "    augmented = np.column_stack((A, b)) # make Ab augmented\n",
    "    rank_A = np.linalg.matrix_rank(A) # computes the rank of the matrix A\n",
    "    rank_aug = np.linalg.matrix_rank(augmented) # computes the rank of the augmented matrix [A|b]\n",
    "    n = A.shape[1]  # number of variables\n",
    "\n",
    "    if rank_A == rank_aug == n:\n",
    "        return \"Unique solution\"\n",
    "    elif rank_A == rank_aug < n:\n",
    "        return \"Infinite solutions\"\n",
    "    elif rank_A < rank_aug:\n",
    "        return \"No solution\"\n",
    "    else:\n",
    "        return \"Indeterminate case\"\n",
    "\n",
    "A = np.array([[1, 2, 3],\n",
    "              [2, 5, 2],\n",
    "              [6, -3, 1]])\n",
    "\n",
    "b = np.array([6, 4, 2])\n",
    "\n",
    "result = detect_solution_type(A, b)\n",
    "print(result)"
   ]
  }
 ],
 "metadata": {
  "kernelspec": {
   "display_name": "Python 3 (ipykernel)",
   "language": "python",
   "name": "python3"
  },
  "language_info": {
   "codemirror_mode": {
    "name": "ipython",
    "version": 3
   },
   "file_extension": ".py",
   "mimetype": "text/x-python",
   "name": "python",
   "nbconvert_exporter": "python",
   "pygments_lexer": "ipython3",
   "version": "3.12.6"
  }
 },
 "nbformat": 4,
 "nbformat_minor": 5
}
