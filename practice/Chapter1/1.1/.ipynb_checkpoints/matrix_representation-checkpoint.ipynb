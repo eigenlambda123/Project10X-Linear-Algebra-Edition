{
 "cells": [
  {
   "cell_type": "markdown",
   "id": "1d93248b-14ed-4bd2-a032-26e2787175ca",
   "metadata": {},
   "source": [
    "### 2x2"
   ]
  },
  {
   "cell_type": "code",
   "execution_count": 3,
   "id": "a7c92511-90d8-47c5-9de7-7c4add5b2ddf",
   "metadata": {},
   "outputs": [
    {
     "data": {
      "text/plain": [
       "[[1, 2], [3, 4]]"
      ]
     },
     "execution_count": 3,
     "metadata": {},
     "output_type": "execute_result"
    }
   ],
   "source": [
    "A = [[1, 2],\n",
    "     [3, 4]]\n",
    "\n",
    "A"
   ]
  },
  {
   "cell_type": "markdown",
   "id": "05e23084-22c5-490b-a296-ce3ac9e0f2df",
   "metadata": {},
   "source": [
    "### 3x3"
   ]
  },
  {
   "cell_type": "code",
   "execution_count": 2,
   "id": "cf446928-e7ec-474e-a2b5-050c7999bb44",
   "metadata": {},
   "outputs": [
    {
     "data": {
      "text/plain": [
       "[[1, 2, 3], [3, 4, 5], [5, 6, 7]]"
      ]
     },
     "execution_count": 2,
     "metadata": {},
     "output_type": "execute_result"
    }
   ],
   "source": [
    "B = [[1, 2, 3],\n",
    "     [3, 4, 5],\n",
    "     [5, 6, 7]]\n",
    "\n",
    "B"
   ]
  }
 ],
 "metadata": {
  "kernelspec": {
   "display_name": "Python 3 (ipykernel)",
   "language": "python",
   "name": "python3"
  },
  "language_info": {
   "codemirror_mode": {
    "name": "ipython",
    "version": 3
   },
   "file_extension": ".py",
   "mimetype": "text/x-python",
   "name": "python",
   "nbconvert_exporter": "python",
   "pygments_lexer": "ipython3",
   "version": "3.12.6"
  }
 },
 "nbformat": 4,
 "nbformat_minor": 5
}
