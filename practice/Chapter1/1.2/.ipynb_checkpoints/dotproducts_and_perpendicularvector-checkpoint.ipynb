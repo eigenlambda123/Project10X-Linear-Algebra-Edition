{
 "cells": [
  {
   "cell_type": "code",
   "execution_count": 34,
   "id": "f33104e0-518d-4b02-ac55-3308e59b3ad6",
   "metadata": {},
   "outputs": [],
   "source": [
    "v = [1, 2]\n",
    "w = [4, 5]\n",
    "\n",
    "a = [4, 2]\n",
    "b = [-1, 2]"
   ]
  },
  {
   "cell_type": "markdown",
   "id": "da8ea9cd-8535-4a16-8282-7bf0b9d32ef4",
   "metadata": {},
   "source": [
    "### Dot Product"
   ]
  },
  {
   "cell_type": "code",
   "execution_count": 35,
   "id": "9398c85a-18a8-4f44-8fe7-b5db3a9e9554",
   "metadata": {},
   "outputs": [
    {
     "name": "stdout",
     "output_type": "stream",
     "text": [
      "14\n"
     ]
    }
   ],
   "source": [
    "def dot_product(v, w):\n",
    "    res = []\n",
    "    for i in range(len(v)):\n",
    "        res.append(v[i]*w[i])\n",
    "    return sum(res)\n",
    "\n",
    "print(dot_product(v, w))"
   ]
  },
  {
   "cell_type": "markdown",
   "id": "c9d946b0-432f-48e6-b7d9-6c705a3d721e",
   "metadata": {},
   "source": [
    "### Perpendicular Vector Finder"
   ]
  },
  {
   "cell_type": "code",
   "execution_count": 37,
   "id": "68d98749-96ab-4ace-8a62-137f419db92a",
   "metadata": {},
   "outputs": [
    {
     "data": {
      "image/png": "[encoded data removed]",
      "text/plain": [
       "<Figure size 640x480 with 1 Axes>"
      ]
     },
     "metadata": {},
     "output_type": "display_data"
    },
    {
     "name": "stdout",
     "output_type": "stream",
     "text": [
      "Your vectors are perpendicular\n"
     ]
    }
   ],
   "source": [
    "import matplotlib.pyplot as plt\n",
    "\n",
    "def plot_vectors(v1, v2, origin=[0, 0]):\n",
    "    plt.figure()\n",
    "    plt.quiver(*origin, *v1, angles='xy', scale_units='xy', scale=1, color='r', label='v1')\n",
    "    plt.quiver(*origin, *v2, angles='xy', scale_units='xy', scale=1, color='b', label='v2')\n",
    "    \n",
    "    plt.xlim(-5, 5)\n",
    "    plt.ylim(-5, 5)\n",
    "    plt.axhline(0, color='gray', linewidth=0.5)\n",
    "    plt.axvline(0, color='gray', linewidth=0.5)\n",
    "    plt.grid(True)\n",
    "    plt.gca().set_aspect('equal')\n",
    "    plt.legend()\n",
    "    plt.title(\"Vector Visualization\")\n",
    "    plt.show()\n",
    "\n",
    "def perpendicular_or_not(v, w):\n",
    "    dot_prod = dot_product(v, w)\n",
    "    plot_vectors(v, w)\n",
    "    if dot_prod == 0:\n",
    "        return \"Your vectors are perpendicular\"\n",
    "    else:\n",
    "        return \"Your vectors are not perpendicular\"\n",
    "\n",
    "print(perpendicular_or_not(a, b))"
   ]
  },
  {
   "cell_type": "code",
   "execution_count": null,
   "id": "cdd69ab2-bd11-4bf5-8506-d0e70d74044c",
   "metadata": {},
   "outputs": [],
   "source": []
  }
 ],
 "metadata": {
  "kernelspec": {
   "display_name": "Python 3 (ipykernel)",
   "language": "python",
   "name": "python3"
  },
  "language_info": {
   "codemirror_mode": {
    "name": "ipython",
    "version": 3
   },
   "file_extension": ".py",
   "mimetype": "text/x-python",
   "name": "python",
   "nbconvert_exporter": "python",
   "pygments_lexer": "ipython3",
   "version": "3.12.6"
  }
 },
 "nbformat": 4,
 "nbformat_minor": 5
}
